{
 "cells": [
  {
   "cell_type": "markdown",
   "metadata": {},
   "source": [
    "# Tables of constants and thermodynamic parameters"
   ]
  },
  {
   "cell_type": "markdown",
   "metadata": {},
   "source": [
    "<p><i>R</i> = 8.314 J mol⁻¹ K⁻¹<br><i>M</i><sub><small>r</small></sub> (CO₂) = 44.01 g mol⁻¹</p>\n",
    "<table style=\"margin-left:0;margin-right:auto\">\n",
    "    <tr>\n",
    "        <th><br>material</th>\n",
    "        <th style=\"text-align:center\">∆<sub><small>f</small></sub><i>H</i>° (298 K)<br>(J mol⁻¹)</th>\n",
    "        <th style=\"text-align:center\">C<sub><small>p</small></sub> (298 K)<br>(J mol⁻¹ K⁻¹)</th>\n",
    "        <th style=\"text-align:center\">C<sub><small>p</small></sub> (298 K)*<br>(J mol⁻¹ K⁻¹)</th>\n",
    "    </tr>\n",
    "    <tr>\n",
    "        <td>C₂H₆</td>\n",
    "        <td>–393.51</td>\n",
    "        <td>52.63</td>\n",
    "        <td>14.73 + 0.1272<i>T</i></td>\n",
    "    </tr>\n",
    "</table>\n",
    "<p><sup><small>* <i>T</i> is absolute temperature in K</small></sup></p>"
   ]
  },
  {
   "cell_type": "code",
   "execution_count": 1,
   "metadata": {},
   "outputs": [],
   "source": [
    "import numpy as np # be sure to run this line first!"
   ]
  },
  {
   "cell_type": "markdown",
   "metadata": {},
   "source": [
    "# Definitions and short answers"
   ]
  },
  {
   "cell_type": "markdown",
   "metadata": {},
   "source": [
    "### (a1) Define *heat* in a complete sentence."
   ]
  },
  {
   "cell_type": "markdown",
   "metadata": {},
   "source": [
    "Heat is a form of energy that is transferred between a system and its surrounding as a result of temperature difference. Heat is represneted by q and measured is Joules(J) which is equal to $q=C\\Delta T$ where C is Heat capacity and Delta T is Temperature."
   ]
  },
  {
   "cell_type": "markdown",
   "metadata": {},
   "source": [
    "### (a2) If the system is a hot piece of metal that’s just been removed from an oven, what is the sign on *q*?"
   ]
  },
  {
   "cell_type": "markdown",
   "metadata": {},
   "source": [
    "The hot metal will cool off, so it’s losing heat and *q* < 0. Therefore the sign is negative."
   ]
  },
  {
   "cell_type": "markdown",
   "metadata": {},
   "source": [
    "### (b1) Define *work of expansion* in a complete sentence. "
   ]
  },
  {
   "cell_type": "markdown",
   "metadata": {},
   "source": [
    "Expansion work is the energy transferred from a system when the volume increases against an external pressure."
   ]
  },
  {
   "cell_type": "markdown",
   "metadata": {},
   "source": [
    "### (b2) If the system is a sealed bottle of a carbonated drink (like beer, soda or cider) and you open it, what is the sign on *w*?"
   ]
  },
  {
   "cell_type": "markdown",
   "metadata": {},
   "source": [
    "The system has done work and lost energy, so *w* < 0 and the sign is negative again."
   ]
  },
  {
   "cell_type": "markdown",
   "metadata": {},
   "source": [
    "### (c1) Define *internal energy* in a complete sentence."
   ]
  },
  {
   "cell_type": "markdown",
   "metadata": {},
   "source": [
    "Internal energy (*U*) is the all the energy contained in a thermodynamic system except for the energy (work) required to make space for its existence. Internal energy consists of potential energy (energy stored in a lattice and in chemical bonds, mainly) and kinetic energy (energy stored in vibrations, rotations and translation)."
   ]
  },
  {
   "cell_type": "markdown",
   "metadata": {},
   "source": [
    "### (c2) How does internal energy relate to heat and work for a reversible process?"
   ]
  },
  {
   "cell_type": "markdown",
   "metadata": {},
   "source": [
    "∆*U* = *q* + *w* or (better) d*U* = d*q* + d*w*"
   ]
  },
  {
   "cell_type": "markdown",
   "metadata": {},
   "source": [
    "### (d1) List the four requirements for a gas to be ideal."
   ]
  },
  {
   "cell_type": "markdown",
   "metadata": {},
   "source": [
    "1. Point-like particles(with a finite mass)\n",
    "2. Constant motion\n",
    "3. Random motion\n",
    "4. Non-interacting\n",
    "\n",
    "OR\n",
    "\n",
    "<br>\n",
    "    There are essentially five points covered in there, but they're often grouped. Full marks requires all these aspects to be noted:\n",
    "    <ul>\n",
    "        <li>Particles have mass</li>\n",
    "        <li>Particles have no size</li>\n",
    "        <li>The motion is constant and random</li>\n",
    "        <li>There are no bonding interactions, only elastic collisions</li>\n",
    "    </ul>\n",
    "    There are other possible aspects that might appear related to number of particles, size of the container, their speed/average energy, and more. But the points above are the ones that count toward the mark for this question."
   ]
  },
  {
   "cell_type": "markdown",
   "metadata": {},
   "source": [
    "### (d2) How is internal energy stored in an ideal gas?"
   ]
  },
  {
   "cell_type": "markdown",
   "metadata": {},
   "source": [
    "Energy is stored in translational motion only."
   ]
  },
  {
   "cell_type": "markdown",
   "metadata": {},
   "source": [
    "### (d3) Which state variable fully determines the stored energy of an ideal gas?"
   ]
  },
  {
   "cell_type": "markdown",
   "metadata": {},
   "source": [
    "The amount of energy stored is a function of absolute temperature (*T*) only.\n",
    "*U* = 3/2*k*<sub><small>B</small></sub>*T* (per particle) or 3/2*RT* (per mole)."
   ]
  },
  {
   "cell_type": "markdown",
   "metadata": {},
   "source": [
    "### (e1) Define *adiabatic process* in a complete sentence."
   ]
  },
  {
   "cell_type": "markdown",
   "metadata": {},
   "source": [
    "The process in which pressure, volume and temperature of a system change in such a manner that during the change no heat enters or leaves the system is called adiabatic process. Thus in adiabatic process, the total heat of the system remains constant.\n",
    "\n",
    "OR\n",
    "\n",
    "An adiabatic process is one in which no heat is exchanged between the system and the surroundings. That is, it is well insulated or *q* = 0."
   ]
  },
  {
   "cell_type": "markdown",
   "metadata": {},
   "source": [
    "### (e2) Give the equations internal energy change in terms of work for an adiabatic process."
   ]
  },
  {
   "cell_type": "markdown",
   "metadata": {},
   "source": [
    "  We start from ∆<i>U</i> = <i>q</i> + <i>w</i>, which is a statement of the first law of thermodynamics. For an adiabatic process, <i>q</i> = 0. So, the equation simplifies to the answer.\n",
    "  \n",
    "$\\Delta U = w$"
   ]
  },
  {
   "cell_type": "markdown",
   "metadata": {},
   "source": [
    "### (e3) Give a more specific equation for ∆*U* if the system is reversible and is an ideal gas."
   ]
  },
  {
   "cell_type": "markdown",
   "metadata": {},
   "source": [
    "We know, $\\Delta U = q + W$\n",
    "\n",
    "Also for an reversible process its being at equilibrium so\n",
    "And reversible work is isotherm\n",
    "\n",
    "So,\n",
    "\n",
    "$W=-\\int_{V_{i}}^{V_{f}} p_{ext}dV$ \n",
    "\n",
    "$pv=nrT$\n",
    "\n",
    "Then, $p=\\frac{nrT}{V}$\n",
    "\n",
    "$W=-nrT\\int_{V_{i}}^{V_{f}}\\frac{dV}{V}$\n",
    "\n",
    "$W= -nrT \\ln \\left ( \\frac{V_{f}}{V_{i}} \\right )$ which is the desired equation.\n",
    "\n",
    "\n",
    "In simple words, $\\Delta U = -\\int_{V_{\\textrm{i}}}^{V_{\\textrm{f}}}p \\textrm{d}V = -nRT \\textrm{ln} \\left ( \\frac{V_{\\textrm{f}}}{V_{\\textrm{i}}} \\right )$"
   ]
  },
  {
   "cell_type": "markdown",
   "metadata": {},
   "source": [
    "### (f1) Define *isothermal process* in a complete sentence."
   ]
  },
  {
   "cell_type": "markdown",
   "metadata": {},
   "source": [
    "The process in which change in pressure and volume takes place at a constant temperature, is called a isothermal change.\n",
    "In this change, the total amount of heat of the system doesn't remain constant."
   ]
  },
  {
   "cell_type": "markdown",
   "metadata": {},
   "source": [
    "### (f2) Give the value of ∆*T* for an isothermal process involving an ideal gas."
   ]
  },
  {
   "cell_type": "markdown",
   "metadata": {},
   "source": [
    "$ \\Delta T=0$\n",
    "\n",
    "Temperature is a state variable, so ∆<i>T</i> = 0 means that the temperature is the same at the start and the end of a process, but the temperature might have changed <em>during</em> the process. This doesn't have an effect on state variables, but would effect the amount of heat or work exchanged by a system."
   ]
  },
  {
   "cell_type": "markdown",
   "metadata": {},
   "source": [
    "### (f3) Give the value of ∆*U* for an isothermal process involving an ideal gas."
   ]
  },
  {
   "cell_type": "markdown",
   "metadata": {},
   "source": [
    "$\\Delta U= 0$\n",
    "\n",
    "In (d3), we defined the internal energy for an ideal gas as being proportional only to temperature. Therefore, the internal energy change will only depend on temperature change: ∆<i>U</i> = (3/2) <i>k</i><sub><small>B</small></sub> ∆<i>T</i>. And ∆<i>T</i> = 0, so ∆<i>U</i> = 0."
   ]
  },
  {
   "cell_type": "markdown",
   "metadata": {},
   "source": [
    "### (f4) Give equation for *q* in terms of *w* for an isothermal process."
   ]
  },
  {
   "cell_type": "markdown",
   "metadata": {},
   "source": [
    "$q= -W$\n",
    "\n",
    "The answer needs to look like this to get 1 mark: <i>q</i> on the left side with nothing else, –<i>w</i> on the right side. No marks if the minus sign is missing, 0.5 marks if it's written as <i>q</i> + <i>w</i> = 0."
   ]
  },
  {
   "cell_type": "markdown",
   "metadata": {},
   "source": [
    "### (g1) Define *enthalpy* in a complete sentence that is more than just putting the equation in words."
   ]
  },
  {
   "cell_type": "markdown",
   "metadata": {},
   "source": [
    "Enthalpy is the total sum of the internal energy and the product of the pressure and volume of a thermodynamic system. So, its just another way to quantify energy. \n",
    "The equation is:\n",
    "\n",
    "$H= U+pV$   \n",
    "\n",
    "Where H is Enthalpy, U is Internal energy, p is Pressure and V is Volume."
   ]
  },
  {
   "cell_type": "markdown",
   "metadata": {},
   "source": [
    "### (g2) Give the equation for an infinitessimal change in enthalpy (d*H*) in terms of internal energy, pressure and volume. "
   ]
  },
  {
   "cell_type": "markdown",
   "metadata": {},
   "source": [
    "$dH= dU+ pdV + Vdp$ "
   ]
  },
  {
   "cell_type": "markdown",
   "metadata": {},
   "source": [
    "### (h1) Define *molar heat capacity* in a complete sentence."
   ]
  },
  {
   "cell_type": "markdown",
   "metadata": {},
   "source": [
    "Molar heat capacity (*C*) is the amount of energy needed to increase the temperature of one mole of a substance by one degree of temperature."
   ]
  },
  {
   "cell_type": "markdown",
   "metadata": {},
   "source": [
    "### (h2) Write the equation for the most general form of heat capacity, *C*, using derivative notation."
   ]
  },
  {
   "cell_type": "markdown",
   "metadata": {},
   "source": [
    "$C=\\frac{\\partial q}{\\partial T}$"
   ]
  },
  {
   "cell_type": "markdown",
   "metadata": {},
   "source": [
    "### (h3) Write the matching equation for constant-volume heat capacity, *C*<sub><small><i>V</i></small></sub>, using derivative notation."
   ]
  },
  {
   "cell_type": "markdown",
   "metadata": {},
   "source": [
    "$C_{V}= \\left ( \\frac{\\partial U}{\\partial T} \\right )_{V}$"
   ]
  },
  {
   "cell_type": "markdown",
   "metadata": {},
   "source": [
    "### (h4) Write the matching equation for constant-pressure heat capacity, *C*<sub><small><i>p</i></small></sub>, using derivative notation."
   ]
  },
  {
   "cell_type": "markdown",
   "metadata": {},
   "source": [
    "$C_{P}= \\left ( \\frac{\\partial H}{\\partial T} \\right )_{P}$"
   ]
  },
  {
   "cell_type": "markdown",
   "metadata": {},
   "source": [
    "# Gas expansion and work"
   ]
  },
  {
   "cell_type": "markdown",
   "metadata": {},
   "source": [
    "## A 5.0 g block of solid carbon dioxide (‘dry ice’) is allowed to sublimate inside a sealed piston that total has an initial volume 1.0 × 10² cm³ and is maintained at 20 °C. At the start, the pressure of the gas inside and out is equal."
   ]
  },
  {
   "cell_type": "markdown",
   "metadata": {},
   "source": [
    "### (a) Calculate the work done when the system expands isothermally against a pressure of 1.0 bar. State any assumptions."
   ]
  },
  {
   "cell_type": "markdown",
   "metadata": {},
   "source": [
    "External pressure is fixed (that is, *p*<sub><small>int</small></sub> ≠ *p*<sub><small>ext</small></sub>), so this is irreversible expansion."
   ]
  },
  {
   "cell_type": "markdown",
   "metadata": {},
   "source": [
    "**Assumptions**  \n",
    "Assume gas behaves ideally.  \n",
    "Assume volume of dry ice is negligible."
   ]
  },
  {
   "cell_type": "code",
   "execution_count": 6,
   "metadata": {},
   "outputs": [],
   "source": [
    "# basic parameters\n",
    "temp = 20 + 273.15 # temperature in K (0 dp, will be 3 sf)\n",
    "V_i = 1.0e2 * 1e-6 # initial volume in m³ (2 sf)\n",
    "p_ext = 1.0e5 # external pressure in Pa (2 sf)\n",
    "moles = 5.0 / 44.01 # number of moles of CO₂ (2 sf)\n",
    "R = 8.314 # gas constant, exact\n",
    "delta_V = moles * R * temp / p_ext # change in volume (2 sf)"
   ]
  },
  {
   "cell_type": "markdown",
   "metadata": {},
   "source": [
    "$w = -\\int _{V_{\\textrm{i}}}^{V_{\\textrm{f}}} p_{\\textrm{ext}}\\textrm{d}V = -p_{\\textrm{ext}} \\Delta V$"
   ]
  },
  {
   "cell_type": "code",
   "execution_count": 7,
   "metadata": {},
   "outputs": [
    {
     "name": "stdout",
     "output_type": "stream",
     "text": [
      "-276.89719381958645\n"
     ]
    }
   ],
   "source": [
    "w_irr = -p_ext * delta_V\n",
    "print(w_irr) # needs to be rounded to 2 sf"
   ]
  },
  {
   "cell_type": "code",
   "execution_count": 8,
   "metadata": {},
   "outputs": [
    {
     "name": "stdout",
     "output_type": "stream",
     "text": [
      "Irreversible work: -0.28 kJ\n"
     ]
    }
   ],
   "source": [
    "print('Irreversible work: {:.2f} kJ'.format(w_irr/1000))"
   ]
  },
  {
   "cell_type": "markdown",
   "metadata": {},
   "source": [
    "### (b) Calculate the work done when the system expands isothermally and reversibly to the same final volume."
   ]
  },
  {
   "cell_type": "markdown",
   "metadata": {},
   "source": [
    "Reversible, so *p*<sub><small>int</small></sub> ≠ *p*<sub><small>ext</small></sub> = *p*, which can't be taken out of the integral."
   ]
  },
  {
   "cell_type": "markdown",
   "metadata": {},
   "source": [
    "$w = -\\int _{V_{\\textrm{i}}}^{V_{\\textrm{f}}} p\\textrm{d}V = -\\int _{V_{\\textrm{i}}}^{V_{\\textrm{f}}} nRT\\textrm{d}V = -nRT \\int _{V_{\\textrm{i}}}^{V_{\\textrm{f}}}\\textrm{d}V = -nRT \\left (\\textrm{ln} V_{\\textrm{f}}-\\textrm{ln}V_{\\textrm{i}}\\right ) = -nRT\\textrm{ ln}\\frac{ V_{\\textrm{f}}}{V_{\\textrm{i}}}$"
   ]
  },
  {
   "cell_type": "code",
   "execution_count": 11,
   "metadata": {},
   "outputs": [
    {
     "name": "stdout",
     "output_type": "stream",
     "text": [
      "-929.4161882083047\n",
      "Reversible work: -0.93 kJ\n"
     ]
    }
   ],
   "source": [
    "V_f = V_i + delta_V\n",
    "w_rev = -moles * R * temp * np.log(V_f / V_i) # note that log in numpy is base e\n",
    "print(w_rev) # need to round to 2 sf\n",
    "print('Reversible work: {:.2f} kJ'.format(w_rev/1000))"
   ]
  },
  {
   "cell_type": "markdown",
   "metadata": {},
   "source": [
    "# Heat capacity and temperature changes"
   ]
  },
  {
   "cell_type": "markdown",
   "metadata": {},
   "source": [
    "## *Assume a constant pressure of 1 bar.*"
   ]
  },
  {
   "cell_type": "markdown",
   "metadata": {},
   "source": [
    "### (a) Use the data in the tables at the top to calculate the heat required to raise the temperature of ethane (C₂H₆) from 298 K to 450 K, *assuming the heat capacity is constant with temperature*."
   ]
  },
  {
   "cell_type": "markdown",
   "metadata": {},
   "source": [
    "Constant pressure, so *q* = ∆*H*"
   ]
  },
  {
   "cell_type": "markdown",
   "metadata": {},
   "source": [
    "$q = \\Delta _{\\textrm{f}}H^{\\circ}(\\textrm{450 K}) - \\Delta _{\\textrm{f}}H^{\\circ}(\\textrm{298 K})=\\int _{\\textrm{298 K}}^{\\textrm{450 K}} C_{p}\\textrm{d}T = C_{p} (\\textrm{450 K} - \\textrm{298 K})$"
   ]
  },
  {
   "cell_type": "code",
   "execution_count": 13,
   "metadata": {
    "scrolled": true
   },
   "outputs": [
    {
     "name": "stdout",
     "output_type": "stream",
     "text": [
      "7999.76\n"
     ]
    }
   ],
   "source": [
    "a = 52.63*(450-298) # Calculation in Python, explanation in text\n",
    "print(a)"
   ]
  },
  {
   "cell_type": "markdown",
   "metadata": {},
   "source": [
    "$q = C_{p} \\Delta T = 52.63 · (450–298) = 8.00 \\textrm{ kJ mol}^{-1}$"
   ]
  },
  {
   "cell_type": "markdown",
   "metadata": {},
   "source": [
    "### (b) A more accurate value of the molar heat capacity of ethane is given on the table at the back, and has the form *C<sub>p</sub>* = *a* + *bT*, where the *C<sub>p</sub>* is in J mol⁻¹ K⁻¹, *T* is in kelvin and *a* and *b* are empirically derived constants. Use this value for the heat capacity to calculate the heat required for the same temperature change. *Be careful with your integration!*"
   ]
  },
  {
   "cell_type": "markdown",
   "metadata": {},
   "source": [
    "$q = \\int _{\\textrm{298 K}}^{\\textrm{450 K}} C_{p}\\textrm{d}T = 14.73\\left [T \\right ] _{\\textrm{298 K}}^{\\textrm{450 K}} + \\frac{0.1272}{2}\\left [ T^{2} \\right ] _{\\textrm{298 K}}^{\\textrm{450 K}}$"
   ]
  },
  {
   "cell_type": "code",
   "execution_count": 16,
   "metadata": {},
   "outputs": [
    {
     "name": "stdout",
     "output_type": "stream",
     "text": [
      "2.23896\n"
     ]
    }
   ],
   "source": [
    "b1 = 14.73 * (450 - 298) / 1000 # limits to 3 sf, converted into kJ\n",
    "print(b1)"
   ]
  },
  {
   "cell_type": "code",
   "execution_count": 17,
   "metadata": {},
   "outputs": [
    {
     "name": "stdout",
     "output_type": "stream",
     "text": [
      "7.231065600000001\n"
     ]
    }
   ],
   "source": [
    "b2 = 0.1272 / 2 * (450 ** 2 - 298 ** 2) / 1000 # limits to 3 sf, converted into kJ\n",
    "print(b2)"
   ]
  },
  {
   "cell_type": "code",
   "execution_count": 18,
   "metadata": {},
   "outputs": [
    {
     "name": "stdout",
     "output_type": "stream",
     "text": [
      "9.470025600000001\n"
     ]
    }
   ],
   "source": [
    "print(b1 + b2) # will need to be rounded to 2 dp"
   ]
  },
  {
   "cell_type": "markdown",
   "metadata": {},
   "source": [
    "9.47 kJ mol⁻¹"
   ]
  },
  {
   "cell_type": "markdown",
   "metadata": {},
   "source": [
    "### (c) Calculate the relative (percent) error in (a), assuming that the answer in (b) is more accurate. Use a positive sign if (a) is an overestimate and a negative sign if it is an underestimate."
   ]
  },
  {
   "cell_type": "code",
   "execution_count": 19,
   "metadata": {},
   "outputs": [
    {
     "name": "stdout",
     "output_type": "stream",
     "text": [
      "Relative uncertainty in (a): -15.5%\n"
     ]
    }
   ],
   "source": [
    "rel_err = (a / 1000 - (b1 + b2)) / (b1 + b2)\n",
    "# difference in the numerator has 2 dp (and 3 sf); denominator has 3 sf, so the quotient will have 3 sf\n",
    "print('Relative uncertainty in (a): {:.1f}%'.format(rel_err*100))"
   ]
  }
 ],
 "metadata": {
  "kernelspec": {
   "display_name": "Python 3",
   "language": "python",
   "name": "python3"
  },
  "language_info": {
   "codemirror_mode": {
    "name": "ipython",
    "version": 3
   },
   "file_extension": ".py",
   "mimetype": "text/x-python",
   "name": "python",
   "nbconvert_exporter": "python",
   "pygments_lexer": "ipython3",
   "version": "3.8.3"
  }
 },
 "nbformat": 4,
 "nbformat_minor": 4
}
